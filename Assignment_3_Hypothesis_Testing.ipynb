{
  "cells": [
    {
      "cell_type": "markdown",
      "metadata": {
        "id": "view-in-github",
        "colab_type": "text"
      },
      "source": [
        "<a href=\"https://colab.research.google.com/github/bhagya-1997/bhagya-1997/blob/main/Assignment_3_Hypothesis_Testing.ipynb\" target=\"_parent\"><img src=\"https://colab.research.google.com/assets/colab-badge.svg\" alt=\"Open In Colab\"/></a>"
      ]
    },
    {
      "cell_type": "markdown",
      "id": "7ba3211d",
      "metadata": {
        "id": "7ba3211d"
      },
      "source": [
        "#### Bhagyashree Deshpande\n",
        "# Hypothesis Testing Exercise"
      ]
    },
    {
      "cell_type": "markdown",
      "id": "7087a9c3",
      "metadata": {
        "id": "7087a9c3"
      },
      "source": [
        "### A F&B manager wants to determine whether there is any significant difference in the diameter of the cutlet between two units. A randomly selected sample of cutlets was collected from both units and measured? Analyze the data and draw inferences at 5% significance level. Please state the assumptions and tests that you carried out to check validity of the assumptions.\n",
        "\n",
        "### Minitab File : Cutlets.mtw"
      ]
    },
    {
      "cell_type": "markdown",
      "id": "0e53da56",
      "metadata": {
        "id": "0e53da56"
      },
      "source": [
        "#### Assume Null hypothesis as H0 : µ1 = µ2 (There is no difference in diameters of cutlets between two units).\n",
        "#### Thus alternate hypothesis as H1 : µ1 ≠ μ2 (There is significant difference in diameters of cutlets between two units) 2 Sample 2 Tail test applicable."
      ]
    },
    {
      "cell_type": "code",
      "execution_count": null,
      "id": "22a2eee3",
      "metadata": {
        "id": "22a2eee3"
      },
      "outputs": [],
      "source": [
        "import pandas as pd\n",
        "from scipy import stats"
      ]
    },
    {
      "cell_type": "code",
      "execution_count": null,
      "id": "5f1fa1f4",
      "metadata": {
        "id": "5f1fa1f4"
      },
      "outputs": [],
      "source": [
        "data = pd.read_csv('Cutlets.csv')"
      ]
    },
    {
      "cell_type": "code",
      "execution_count": null,
      "id": "69efadf6",
      "metadata": {
        "id": "69efadf6"
      },
      "outputs": [],
      "source": [
        "unit_A = pd.Series(data.iloc[:,0])\n",
        "unit_B = pd.Series(data.iloc[:,1])"
      ]
    },
    {
      "cell_type": "code",
      "execution_count": null,
      "id": "6be951aa",
      "metadata": {
        "id": "6be951aa",
        "outputId": "8e9c9be6-5611-4464-816e-177cf577b4dd"
      },
      "outputs": [
        {
          "data": {
            "text/plain": [
              "0.4722"
            ]
          },
          "execution_count": 5,
          "metadata": {},
          "output_type": "execute_result"
        }
      ],
      "source": [
        "p_value = stats.ttest_ind(unit_A, unit_B)\n",
        "round(p_value[1],4)"
      ]
    },
    {
      "cell_type": "markdown",
      "id": "39e6f886",
      "metadata": {
        "id": "39e6f886"
      },
      "source": [
        "## Hypothesis Testing Exercise\n",
        "### A hospital wants to determine whether there is any difference in the average Turn Around Time (TAT) of reports of the laboratories on their preferred list. They collected a random sample and recorded TAT for reports of 4 laboratories. TAT is defined as sample collected to report dispatch.\n",
        "### Analyze the data and determine whether there is any difference in average TAT among the different laboratories at 5% significance level.\n",
        "### Minitab File: LabTAT.mtw"
      ]
    },
    {
      "cell_type": "code",
      "execution_count": null,
      "id": "6925fb64",
      "metadata": {
        "id": "6925fb64"
      },
      "outputs": [],
      "source": [
        "data = pd.read_csv('LabTAT.csv')"
      ]
    },
    {
      "cell_type": "code",
      "execution_count": null,
      "id": "5b13ef51",
      "metadata": {
        "id": "5b13ef51",
        "outputId": "12dba702-7bfe-4d4c-c2dc-d48754a4281c"
      },
      "outputs": [
        {
          "data": {
            "text/plain": [
              "2.1156708949992414e-57"
            ]
          },
          "execution_count": 4,
          "metadata": {},
          "output_type": "execute_result"
        }
      ],
      "source": [
        "p_value = stats.f_oneway(data.iloc[:,0], data.iloc[:,1], data.iloc[:,2], data.iloc[:,3])\n",
        "p_value[1]"
      ]
    },
    {
      "cell_type": "markdown",
      "id": "62d8650b",
      "metadata": {
        "id": "62d8650b"
      },
      "source": [
        "## Hypothesis Testing Exercise\n",
        "### Sales of products in four different regions is tabulated for males and females. Find if male-female buyer rations are similar across regions."
      ]
    },
    {
      "cell_type": "code",
      "execution_count": null,
      "id": "6bd85a33",
      "metadata": {
        "id": "6bd85a33"
      },
      "outputs": [],
      "source": [
        "from scipy.stats import chi2_contingency"
      ]
    },
    {
      "cell_type": "code",
      "execution_count": null,
      "id": "91fdf99a",
      "metadata": {
        "id": "91fdf99a"
      },
      "outputs": [],
      "source": [
        "data = pd.read_csv('BuyerRatio.csv')\n",
        "data = data.iloc[:,1:]\n",
        "data = data.values"
      ]
    },
    {
      "cell_type": "code",
      "execution_count": null,
      "id": "8aeeab28",
      "metadata": {
        "id": "8aeeab28"
      },
      "outputs": [],
      "source": [
        "val = chi2_contingency(data)\n",
        "p_val = val[1]"
      ]
    },
    {
      "cell_type": "code",
      "execution_count": null,
      "id": "a78e9c86",
      "metadata": {
        "id": "a78e9c86",
        "outputId": "56fab9ca-efda-4561-8e43-eb63ff989dfc"
      },
      "outputs": [
        {
          "name": "stdout",
          "output_type": "stream",
          "text": [
            "Independent (fail to reject H0)\n"
          ]
        }
      ],
      "source": [
        "if p_val <= 0.05:\n",
        "    print('Dependent (Reject H0)')\n",
        "else:\n",
        "    print('Independent (fail to reject H0)')"
      ]
    },
    {
      "cell_type": "markdown",
      "id": "6dfdf430",
      "metadata": {
        "id": "6dfdf430"
      },
      "source": [
        "## Hypothesis Testing Exercise\n",
        "### TeleCall uses 4 centers around the globe to process customer order forms. They audit a certain %  of the customer order forms. Any error in order form renders it defective and has to be reworked before processing.  The manager wants to check whether the defective %  varies by centre. Please analyze the data at 5% significance level and help the manager draw appropriate inferences\n",
        "### Minitab File: CustomerOrderForm.mtw"
      ]
    },
    {
      "cell_type": "code",
      "execution_count": null,
      "id": "f3ba3504",
      "metadata": {
        "id": "f3ba3504"
      },
      "outputs": [],
      "source": [
        "import numpy as np\n",
        "import scipy as sp\n",
        "import scipy.stats as stats\n",
        "import matplotlib.pyplot as plt\n",
        "import seaborn as sns\n",
        "import statsmodels.api as sm"
      ]
    },
    {
      "cell_type": "code",
      "execution_count": null,
      "id": "643ccb58",
      "metadata": {
        "id": "643ccb58",
        "outputId": "37a27118-1e89-4045-bbac-86a7b72a3caa"
      },
      "outputs": [
        {
          "data": {
            "text/html": [
              "<div>\n",
              "<style scoped>\n",
              "    .dataframe tbody tr th:only-of-type {\n",
              "        vertical-align: middle;\n",
              "    }\n",
              "\n",
              "    .dataframe tbody tr th {\n",
              "        vertical-align: top;\n",
              "    }\n",
              "\n",
              "    .dataframe thead th {\n",
              "        text-align: right;\n",
              "    }\n",
              "</style>\n",
              "<table border=\"1\" class=\"dataframe\">\n",
              "  <thead>\n",
              "    <tr style=\"text-align: right;\">\n",
              "      <th></th>\n",
              "      <th>Phillippines</th>\n",
              "      <th>Indonesia</th>\n",
              "      <th>Malta</th>\n",
              "      <th>India</th>\n",
              "    </tr>\n",
              "  </thead>\n",
              "  <tbody>\n",
              "    <tr>\n",
              "      <th>0</th>\n",
              "      <td>Error Free</td>\n",
              "      <td>Error Free</td>\n",
              "      <td>Defective</td>\n",
              "      <td>Error Free</td>\n",
              "    </tr>\n",
              "    <tr>\n",
              "      <th>1</th>\n",
              "      <td>Error Free</td>\n",
              "      <td>Error Free</td>\n",
              "      <td>Error Free</td>\n",
              "      <td>Defective</td>\n",
              "    </tr>\n",
              "    <tr>\n",
              "      <th>2</th>\n",
              "      <td>Error Free</td>\n",
              "      <td>Defective</td>\n",
              "      <td>Defective</td>\n",
              "      <td>Error Free</td>\n",
              "    </tr>\n",
              "    <tr>\n",
              "      <th>3</th>\n",
              "      <td>Error Free</td>\n",
              "      <td>Error Free</td>\n",
              "      <td>Error Free</td>\n",
              "      <td>Error Free</td>\n",
              "    </tr>\n",
              "    <tr>\n",
              "      <th>4</th>\n",
              "      <td>Error Free</td>\n",
              "      <td>Error Free</td>\n",
              "      <td>Defective</td>\n",
              "      <td>Error Free</td>\n",
              "    </tr>\n",
              "  </tbody>\n",
              "</table>\n",
              "</div>"
            ],
            "text/plain": [
              "  Phillippines   Indonesia       Malta       India\n",
              "0   Error Free  Error Free   Defective  Error Free\n",
              "1   Error Free  Error Free  Error Free   Defective\n",
              "2   Error Free   Defective   Defective  Error Free\n",
              "3   Error Free  Error Free  Error Free  Error Free\n",
              "4   Error Free  Error Free   Defective  Error Free"
            ]
          },
          "execution_count": 3,
          "metadata": {},
          "output_type": "execute_result"
        }
      ],
      "source": [
        "data = pd.read_csv('Costomer+OrderForm.csv')\n",
        "data.head()"
      ]
    },
    {
      "cell_type": "code",
      "execution_count": null,
      "id": "e218d5a0",
      "metadata": {
        "id": "e218d5a0",
        "outputId": "3a33038e-49d7-4e8c-bf9c-00f8c0fc8f43"
      },
      "outputs": [
        {
          "data": {
            "text/plain": [
              "Error Free    271\n",
              "Defective      29\n",
              "Name: Phillippines, dtype: int64"
            ]
          },
          "execution_count": 4,
          "metadata": {},
          "output_type": "execute_result"
        }
      ],
      "source": [
        "Phillippines = data['Phillippines'].value_counts()\n",
        "Phillippines"
      ]
    },
    {
      "cell_type": "code",
      "execution_count": null,
      "id": "c10acf55",
      "metadata": {
        "id": "c10acf55",
        "outputId": "33e22e0f-d1a1-4ad9-f536-3446ce44c196"
      },
      "outputs": [
        {
          "data": {
            "text/plain": [
              "Error Free    267\n",
              "Defective      33\n",
              "Name: Indonesia, dtype: int64"
            ]
          },
          "execution_count": 5,
          "metadata": {},
          "output_type": "execute_result"
        }
      ],
      "source": [
        "Indonesia = data['Indonesia'].value_counts()\n",
        "Indonesia"
      ]
    },
    {
      "cell_type": "code",
      "execution_count": null,
      "id": "bcc9d05e",
      "metadata": {
        "id": "bcc9d05e",
        "outputId": "5290ecbd-cedc-4f25-978d-9464565deb3e"
      },
      "outputs": [
        {
          "data": {
            "text/plain": [
              "Error Free    269\n",
              "Defective      31\n",
              "Name: Malta, dtype: int64"
            ]
          },
          "execution_count": 6,
          "metadata": {},
          "output_type": "execute_result"
        }
      ],
      "source": [
        "Malta = data['Malta'].value_counts()\n",
        "Malta"
      ]
    },
    {
      "cell_type": "code",
      "execution_count": null,
      "id": "97021c72",
      "metadata": {
        "id": "97021c72",
        "outputId": "e51b0dbe-1aa3-4edd-cbb0-73ac58c129b3"
      },
      "outputs": [
        {
          "data": {
            "text/plain": [
              "Error Free    280\n",
              "Defective      20\n",
              "Name: India, dtype: int64"
            ]
          },
          "execution_count": 7,
          "metadata": {},
          "output_type": "execute_result"
        }
      ],
      "source": [
        "India = data['India'].value_counts()\n",
        "India"
      ]
    },
    {
      "cell_type": "code",
      "execution_count": null,
      "id": "421ceb2e",
      "metadata": {
        "scrolled": true,
        "id": "421ceb2e",
        "outputId": "7ca1da63-260e-4f3f-8ec5-485c1196a5ce"
      },
      "outputs": [
        {
          "data": {
            "text/plain": [
              "0.2771020991233135"
            ]
          },
          "execution_count": 12,
          "metadata": {},
          "output_type": "execute_result"
        }
      ],
      "source": [
        "chi_stats = sp.stats.chi2_contingency([[271,267,269,280],[29,33,31,20]])\n",
        "p_value = chi_stats[1]\n",
        "p_value"
      ]
    },
    {
      "cell_type": "code",
      "execution_count": null,
      "id": "defac5cb",
      "metadata": {
        "id": "defac5cb",
        "outputId": "b63ea74e-04e7-4a8b-8b9a-fadb091f22e5"
      },
      "outputs": [
        {
          "name": "stdout",
          "output_type": "stream",
          "text": [
            "Do not reject Null hypothesis\n"
          ]
        }
      ],
      "source": [
        "if p_value > 0.05:\n",
        "    print('Do not reject Null hypothesis')\n",
        "else:\n",
        "    print('Reject Null hypothesis')"
      ]
    }
  ],
  "metadata": {
    "kernelspec": {
      "display_name": "Python 3 (ipykernel)",
      "language": "python",
      "name": "python3"
    },
    "language_info": {
      "codemirror_mode": {
        "name": "ipython",
        "version": 3
      },
      "file_extension": ".py",
      "mimetype": "text/x-python",
      "name": "python",
      "nbconvert_exporter": "python",
      "pygments_lexer": "ipython3",
      "version": "3.9.7"
    },
    "colab": {
      "name": "Assignment 3 - Hypothesis Testing.ipynb",
      "provenance": [],
      "collapsed_sections": [],
      "include_colab_link": true
    }
  },
  "nbformat": 4,
  "nbformat_minor": 5
}